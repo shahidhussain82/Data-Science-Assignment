{
 "cells": [
  {
   "cell_type": "markdown",
   "id": "e8a69c08-8c83-4d0b-b1f9-12f9a4eda9a1",
   "metadata": {},
   "source": [
    "# Data Science Assignment"
   ]
  },
  {
   "cell_type": "markdown",
   "id": "ae8d1861-102a-438f-b15a-e6242417a57e",
   "metadata": {},
   "source": [
    "## Introduction\n",
    "In this notebook, we will explore basic data science concepts using Python. This includes listing data science languages and libraries, demonstrating arithmetic operations, and showcasing how to convert minutes to hours. The notebook will also highlight some commonly used data science tools."
   ]
  },
  {
   "cell_type": "markdown",
   "id": "13efdcc4-6522-4a57-89a3-40c549c09cbb",
   "metadata": {},
   "source": [
    "## Data Science Languages\n",
    "The following are some of the popular programming languages used in data science:\n",
    "\n",
    "- Python\n",
    "- R\n",
    "- SQL\n",
    "- Julia\n",
    "- Scala\n",
    "- Java"
   ]
  },
  {
   "cell_type": "markdown",
   "id": "fdd2a53f-0f56-4724-9bd5-31dfbb97885d",
   "metadata": {},
   "source": [
    "## Data Science Libraries\n",
    "The following are some well-known libraries used in data science:\n",
    "\n",
    "- NumPy\n",
    "- Pandas\n",
    "- Matplotlib\n",
    "- Scikit-learn\n",
    "- TensorFlow\n",
    "- Keras\n",
    "- PyTorch\n",
    "- Statsmodels"
   ]
  },
  {
   "cell_type": "markdown",
   "id": "c07c8bd5-068f-4ca6-ac2b-5c0c0149ed13",
   "metadata": {},
   "source": [
    "## Data Science Tools\n",
    "The following table lists some common data science tools:\n",
    "\n",
    "| Tool        | Description                                  |\n",
    "|-------------|----------------------------------------------|\n",
    "| Jupyter     | Interactive notebook for data analysis       |\n",
    "| RStudio     | IDE for R programming                        |\n",
    "| Spyder      | IDE for Python programming                   |\n",
    "| TensorFlow  | Machine learning library                     |\n",
    "| Tableau     | Data visualization software                  |\n",
    "| PowerBI     | Business analytics and visualization tool   |\n"
   ]
  },
  {
   "cell_type": "markdown",
   "id": "c34c9ba2-d146-4a18-86aa-9833ab477ac4",
   "metadata": {},
   "source": [
    "## Arithmetic Expression Examples\n",
    "In this section, we will explore basic arithmetic expressions in Python.\n"
   ]
  },
  {
   "cell_type": "code",
   "execution_count": 1,
   "id": "d680eeda-98f0-4800-989d-2e5b72df6da5",
   "metadata": {},
   "outputs": [
    {
     "data": {
      "text/plain": [
       "(15, 7)"
      ]
     },
     "execution_count": 1,
     "metadata": {},
     "output_type": "execute_result"
    }
   ],
   "source": [
    "# Multiply and add numbers\n",
    "x = 5\n",
    "y = 3\n",
    "z = 2\n",
    "\n",
    "product = x * y\n",
    "sum_result = x + z\n",
    "\n",
    "product, sum_result\n"
   ]
  },
  {
   "cell_type": "code",
   "execution_count": 2,
   "id": "d951c29f-e181-478b-a2cc-608ae4650374",
   "metadata": {},
   "outputs": [
    {
     "data": {
      "text/plain": [
       "2.0"
      ]
     },
     "execution_count": 2,
     "metadata": {},
     "output_type": "execute_result"
    }
   ],
   "source": [
    "# Convert minutes to hours\n",
    "def convert_minutes_to_hours(minutes):\n",
    "    hours = minutes / 60\n",
    "    return hours\n",
    "\n",
    "# Example: Convert 120 minutes to hours\n",
    "minutes = 120\n",
    "convert_minutes_to_hours(minutes)\n"
   ]
  },
  {
   "cell_type": "markdown",
   "id": "fde3ba29-9cae-4c2e-ac9f-39d82196ccae",
   "metadata": {},
   "source": [
    "## Objectives\n",
    "In this notebook, the following objectives will be achieved:\n",
    "\n",
    "1. Creating and formatting markdown cells\n",
    "2. Performing basic arithmetic operations using code cells\n",
    "3. Demonstrating the conversion of minutes to hours using a Python function\n",
    "4. Listing data science languages, libraries, and tools\n",
    "5. Sharing the notebook via GitHub\n"
   ]
  },
  {
   "cell_type": "markdown",
   "id": "9dce686f-2e4f-4a4e-8270-f34fdc7c19cb",
   "metadata": {},
   "source": [
    "## Author\n",
    "This notebook was created by Shahid Hussain.\n"
   ]
  },
  {
   "cell_type": "code",
   "execution_count": null,
   "id": "f2f2eaf2-c460-42fc-a1b4-86e444d5a1ab",
   "metadata": {},
   "outputs": [],
   "source": []
  }
 ],
 "metadata": {
  "kernelspec": {
   "display_name": "Python 3 (ipykernel)",
   "language": "python",
   "name": "python3"
  },
  "language_info": {
   "codemirror_mode": {
    "name": "ipython",
    "version": 3
   },
   "file_extension": ".py",
   "mimetype": "text/x-python",
   "name": "python",
   "nbconvert_exporter": "python",
   "pygments_lexer": "ipython3",
   "version": "3.11.9"
  }
 },
 "nbformat": 4,
 "nbformat_minor": 5
}
